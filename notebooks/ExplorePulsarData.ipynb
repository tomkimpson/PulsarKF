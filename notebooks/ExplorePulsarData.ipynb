{
 "cells": [
  {
   "attachments": {},
   "cell_type": "markdown",
   "metadata": {},
   "source": [
    "## Explore some real pulsar data\n",
    "\n",
    "This notebook looks at some MSPs from the ANTF pulsar catalogue\n"
   ]
  },
  {
   "cell_type": "code",
   "execution_count": 1,
   "metadata": {},
   "outputs": [
    {
     "ename": "ModuleNotFoundError",
     "evalue": "No module named 'psrqpy'",
     "output_type": "error",
     "traceback": [
      "\u001b[0;31m---------------------------------------------------------------------------\u001b[0m",
      "\u001b[0;31mModuleNotFoundError\u001b[0m                       Traceback (most recent call last)",
      "Cell \u001b[0;32mIn[1], line 1\u001b[0m\n\u001b[0;32m----> 1\u001b[0m \u001b[39mfrom\u001b[39;00m \u001b[39mpsrqpy\u001b[39;00m \u001b[39mimport\u001b[39;00m QueryATNF\n\u001b[1;32m      2\u001b[0m query \u001b[39m=\u001b[39m QueryATNF(params\u001b[39m=\u001b[39m[\u001b[39m'\u001b[39m\u001b[39mName\u001b[39m\u001b[39m'\u001b[39m,\u001b[39m'\u001b[39m\u001b[39mPSRJ\u001b[39m\u001b[39m'\u001b[39m, \u001b[39m'\u001b[39m\u001b[39mF0\u001b[39m\u001b[39m'\u001b[39m,\u001b[39m'\u001b[39m\u001b[39mF1\u001b[39m\u001b[39m'\u001b[39m,\u001b[39m'\u001b[39m\u001b[39mRAJD\u001b[39m\u001b[39m'\u001b[39m,\u001b[39m'\u001b[39m\u001b[39mDecJD\u001b[39m\u001b[39m'\u001b[39m,\u001b[39m'\u001b[39m\u001b[39mDist\u001b[39m\u001b[39m'\u001b[39m])\n\u001b[1;32m      3\u001b[0m df \u001b[39m=\u001b[39m query\u001b[39m.\u001b[39mpandas\n",
      "\u001b[0;31mModuleNotFoundError\u001b[0m: No module named 'psrqpy'"
     ]
    }
   ],
   "source": [
    "from psrqpy import QueryATNF\n",
    "query = QueryATNF(params=['Name','PSRJ', 'F0','F1','RAJD','DecJD','Dist'])\n",
    "df = query.pandas"
   ]
  },
  {
   "attachments": {},
   "cell_type": "markdown",
   "metadata": {},
   "source": [
    "## Case 1: Two random arrays:"
   ]
  },
  {
   "cell_type": "code",
   "execution_count": 10,
   "metadata": {},
   "outputs": [
    {
     "name": "stdout",
     "output_type": "stream",
     "text": [
      "[[0.00649553 0.2280556  0.25289036 0.75818436 0.99433209]\n",
      " [0.76668165 0.27969992 0.08450494 0.52369974 0.85647668]\n",
      " [0.39603961 0.87040198 0.7719638  0.90973154 0.80300699]\n",
      " [0.28714274 0.25692951 0.46169375 0.70232583 0.99485387]\n",
      " [0.6329199  0.62444154 0.53151288 0.7146627  0.5333774 ]\n",
      " [0.41945753 0.283859   0.16528925 0.76530933 0.92639165]]\n",
      "-------------\n",
      "[[0.72305836 0.16218958 0.69167692 0.34840618 0.14980758]\n",
      " [0.0971603  0.86304592 0.93636447 0.47552254 0.34577871]\n",
      " [0.86576197 0.44704838 0.20606991 0.32406929 0.93127207]\n",
      " [0.43402216 0.51324759 0.72790838 0.47066741 0.55565692]\n",
      " [0.22050525 0.64381344 0.79126592 0.1489973  0.85857497]]\n"
     ]
    }
   ],
   "source": [
    "import numpy as np\n",
    "\n",
    "xdims = 6\n",
    "ydims = 5\n",
    "\n",
    "\n",
    "Pxy = np.ones((xdims,ydims)) * np.random.uniform(0,1,size=((xdims,ydims)))\n",
    "Pyy = np.ones((ydims,ydims)) * np.random.uniform(0,1,size=((ydims,ydims)))\n",
    "\n",
    "\n",
    "print(Pxy)\n",
    "print('-------------')\n",
    "print(Pyy)"
   ]
  },
  {
   "cell_type": "code",
   "execution_count": 11,
   "metadata": {},
   "outputs": [
    {
     "name": "stdout",
     "output_type": "stream",
     "text": [
      "[[-0.20572673 -0.3155973   1.24409317 -3.78211036  3.25814099]\n",
      " [-0.30850323  0.85256564 -1.38817742 -0.4827416   1.76057107]\n",
      " [-1.50111874 -0.02411269 -1.08522296 -0.0948091   2.57458821]\n",
      " [-0.62289272  0.47798996  0.41272758 -2.92731728  2.65693471]\n",
      " [-1.42731017  0.09328294 -1.75265245  1.29822219  1.9927024 ]\n",
      " [-0.44119323 -0.09334903 -0.11863634 -1.90800388  3.06881847]]\n"
     ]
    }
   ],
   "source": [
    "#Definition 1\n",
    "K1 = Pxy @ np.linalg.inv(Pyy)\n",
    "\n",
    "#Definition 2\n",
    "Q,R = np.linalg.qr(Pyy)\n",
    "Qb = Pxy @ Q.T\n",
    "K2 = np.linalg.solve(R,Qb.T).T\n",
    "\n",
    "\n",
    "#Subtract\n",
    "print(\"Difference in Kalman solutions:\")\n",
    "print(K2 - K1)"
   ]
  },
  {
   "attachments": {},
   "cell_type": "markdown",
   "metadata": {},
   "source": [
    "Hmm! Looks like these two definitions are not equivalent generally? What about if we try a simpler matrix:\n",
    "\n",
    "\n",
    "## Case 2: Random, diagonal matrices"
   ]
  },
  {
   "cell_type": "code",
   "execution_count": 21,
   "metadata": {},
   "outputs": [
    {
     "name": "stdout",
     "output_type": "stream",
     "text": [
      "[[0.97359649 0.         0.         0.         0.        ]\n",
      " [0.         0.94309432 0.         0.         0.        ]\n",
      " [0.         0.         0.34717288 0.         0.        ]\n",
      " [0.         0.         0.         0.65022376 0.        ]\n",
      " [0.         0.         0.         0.         0.36193577]\n",
      " [0.         0.         0.         0.         0.        ]]\n",
      "-------------\n",
      "[[0.3420506  0.         0.         0.         0.        ]\n",
      " [0.         0.14578382 0.         0.         0.        ]\n",
      " [0.         0.         0.71017011 0.         0.        ]\n",
      " [0.         0.         0.         0.47727093 0.        ]\n",
      " [0.         0.         0.         0.         0.27206902]]\n",
      "Difference in Kalman solutions:\n",
      "[[ 0.0000000e+00  0.0000000e+00  0.0000000e+00 -0.0000000e+00\n",
      "   0.0000000e+00]\n",
      " [ 0.0000000e+00 -8.8817842e-16  0.0000000e+00 -0.0000000e+00\n",
      "   0.0000000e+00]\n",
      " [ 0.0000000e+00  0.0000000e+00  0.0000000e+00 -0.0000000e+00\n",
      "   0.0000000e+00]\n",
      " [ 0.0000000e+00  0.0000000e+00  0.0000000e+00  0.0000000e+00\n",
      "   0.0000000e+00]\n",
      " [ 0.0000000e+00  0.0000000e+00  0.0000000e+00 -0.0000000e+00\n",
      "   0.0000000e+00]\n",
      " [ 0.0000000e+00  0.0000000e+00  0.0000000e+00 -0.0000000e+00\n",
      "   0.0000000e+00]]\n"
     ]
    }
   ],
   "source": [
    "Pxy = np.eye(N=xdims,M=ydims) * np.random.uniform(0,1,size=((xdims,ydims)))\n",
    "Pyy = np.eye(N=ydims,M=ydims) * np.random.uniform(0,1,size=((ydims,ydims)))\n",
    "\n",
    "print(Pxy)\n",
    "print('-------------')\n",
    "print(Pyy)\n",
    "\n",
    "\n",
    "\n",
    "#Definition 1\n",
    "K1 = Pxy @ np.linalg.inv(Pyy)\n",
    "\n",
    "#Definition 2\n",
    "Q,R = np.linalg.qr(Pyy)\n",
    "Qb = Pxy @ Q.T\n",
    "K2 = np.linalg.solve(R,Qb.T).T\n",
    "\n",
    "\n",
    "#Subtract\n",
    "print(\"Difference in Kalman solutions:\")\n",
    "print(K2 - K1)"
   ]
  },
  {
   "attachments": {},
   "cell_type": "markdown",
   "metadata": {},
   "source": [
    "Ok this now works! So is this something to do with the off-diagonal terms?\n",
    "\n",
    "\n",
    "## Case 3: Off diagonal terms"
   ]
  },
  {
   "cell_type": "code",
   "execution_count": 22,
   "metadata": {},
   "outputs": [
    {
     "name": "stdout",
     "output_type": "stream",
     "text": [
      "[[0.54625028 0.         0.         0.         0.        ]\n",
      " [0.         0.49088819 0.         0.         0.        ]\n",
      " [0.         0.         0.44880401 0.1341587  0.        ]\n",
      " [0.         0.         0.         0.58420655 0.        ]\n",
      " [0.         0.         0.         0.         0.17569771]\n",
      " [0.         0.         0.         0.         0.        ]]\n",
      "-------------\n",
      "[[0.26442079 0.         0.         0.         0.        ]\n",
      " [0.         0.45324211 0.         0.         0.        ]\n",
      " [0.         0.         0.54593748 0.         0.        ]\n",
      " [0.         0.         0.         0.71285484 0.        ]\n",
      " [0.         0.         0.51887914 0.         0.03556407]]\n",
      "Difference in Kalman solutions:\n",
      "[[ 0.00000000e+00  0.00000000e+00 -0.00000000e+00 -0.00000000e+00\n",
      "   0.00000000e+00]\n",
      " [ 0.00000000e+00  2.22044605e-16 -0.00000000e+00 -0.00000000e+00\n",
      "   0.00000000e+00]\n",
      " [ 0.00000000e+00  0.00000000e+00  2.22044605e-16  0.00000000e+00\n",
      "  -1.19941261e+01]\n",
      " [ 0.00000000e+00  0.00000000e+00 -0.00000000e+00 -1.11022302e-16\n",
      "   0.00000000e+00]\n",
      " [ 0.00000000e+00  0.00000000e+00  4.69545825e+00 -0.00000000e+00\n",
      "   0.00000000e+00]\n",
      " [ 0.00000000e+00  0.00000000e+00 -0.00000000e+00 -0.00000000e+00\n",
      "   0.00000000e+00]]\n"
     ]
    }
   ],
   "source": [
    "Pxy = np.eye(N=xdims,M=ydims) * np.random.uniform(0,1,size=((xdims,ydims)))\n",
    "Pyy = np.eye(N=ydims,M=ydims) * np.random.uniform(0,1,size=((ydims,ydims)))\n",
    "\n",
    "\n",
    "Pxy[2,3] = np.random.uniform(0,1)\n",
    "Pyy[4,2] = np.random.uniform(0,1)\n",
    "\n",
    "\n",
    "print(Pxy)\n",
    "print('-------------')\n",
    "print(Pyy)\n",
    "\n",
    "\n",
    "\n",
    "#Definition 1\n",
    "K1 = Pxy @ np.linalg.inv(Pyy)\n",
    "\n",
    "#Definition 2\n",
    "Q,R = np.linalg.qr(Pyy)\n",
    "Qb = Pxy @ Q.T\n",
    "K2 = np.linalg.solve(R,Qb.T).T\n",
    "\n",
    "\n",
    "#Subtract\n",
    "print(\"Difference in Kalman solutions:\")\n",
    "print(K2 - K1)"
   ]
  },
  {
   "attachments": {},
   "cell_type": "markdown",
   "metadata": {},
   "source": [
    "aaaaaand now its broken again!\n",
    "\n",
    "\n",
    "\n",
    "## Case 4, the solution\n",
    "\n",
    "\n",
    "The alternative definition of the Kalman gain does work, we just need to be mindful about what needs transposing"
   ]
  },
  {
   "cell_type": "code",
   "execution_count": null,
   "metadata": {},
   "outputs": [],
   "source": []
  }
 ],
 "metadata": {
  "kernelspec": {
   "display_name": "Python 3.9.15 ('PulsarKF')",
   "language": "python",
   "name": "python3"
  },
  "language_info": {
   "codemirror_mode": {
    "name": "ipython",
    "version": 3
   },
   "file_extension": ".py",
   "mimetype": "text/x-python",
   "name": "python",
   "nbconvert_exporter": "python",
   "pygments_lexer": "ipython3",
   "version": "3.9.15"
  },
  "orig_nbformat": 4,
  "vscode": {
   "interpreter": {
    "hash": "d2b872516c1abf95f1cd0720b46e5dbb41c844b31e8b5165bcd07f557b0ed5bf"
   }
  }
 },
 "nbformat": 4,
 "nbformat_minor": 2
}
